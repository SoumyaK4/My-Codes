{
  "cells": [
    {
      "cell_type": "markdown",
      "metadata": {
        "id": "view-in-github",
        "colab_type": "text"
      },
      "source": [
        "<a href=\"https://colab.research.google.com/github/SoumyaK4/My-Codes/blob/main/github.com/SoumyaK4/My-Codes/tree/main/Templates/EDA_Template_by_SoumyaK4_v3_6.ipynb\" target=\"_parent\"><img src=\"https://colab.research.google.com/assets/colab-badge.svg\" alt=\"Open In Colab\"/></a>"
      ]
    },
    {
      "cell_type": "markdown",
      "id": "cc308621",
      "metadata": {
        "id": "cc308621"
      },
      "source": [
        "<center><img src=\"https://github.com/SoumyaK4/SoumyaK4/blob/main/Logo%20B.png?raw=true\" width=\"120\" height=\"50\" /></center>"
      ]
    },
    {
      "cell_type": "markdown",
      "id": "66b3a7ed",
      "metadata": {
        "id": "66b3a7ed"
      },
      "source": [
        "<table style=\"border-collapse: collapse; border: 1px solid black;\">\n",
        "    <thead>\n",
        "        <tr>\n",
        "            <th style=\"border: 1px solid black; text-align: center; font-size: 2.5em;\"  colspan=2>TABLE OF CONTENTS</th>\n",
        "        </tr>\n",
        "    </thead>\n",
        "    <tbody>\n",
        "        <tr>\n",
        "            <td rowspan=1  style=\"border: 1px solid black; text-align: center;\"><b><a href=\"#Section1\">1 Introduction</a></b></td>\n",
        "        </tr>\n",
        "        <tr>\n",
        "            <td rowspan=1  style=\"border: 1px solid black; text-align: center;\"><a href=\"#Section2\">2 Problem Statement</a></td>\n",
        "        </tr>\n",
        "        <tr>\n",
        "            <td rowspan=1  style=\"border: 1px solid black; text-align: center;\"><a href=\"#Section3\">3 Installing & Importing Libraries</a></td>\n",
        "        </tr>\n",
        "        <tr>\n",
        "            <td rowspan=1  style=\"border: 1px solid black; text-align: center;\"><a href=\"#Section4\">4 Data Acquisition & Description</a></td>\n",
        "        </tr>\n",
        "        <tr>\n",
        "            <td rowspan=1  style=\"border: 1px solid black; text-align: center;\"><a href=\"#Section5\">5 Data Pre-profiling</a></td>\n",
        "        </tr>\n",
        "        <tr>\n",
        "            <td rowspan=1  style=\"border: 1px solid black; text-align: center;\"><a href=\"#Section6\">6 Data Pre-processing and Post-profiling</a></td>\n",
        "        </tr>\n",
        "        <tr>\n",
        "            <td rowspan=4  style=\"border: 1px solid black; text-align: center;\"><a href=\"#Section7\">7 Exploratory Data Analysis</a></td>\n",
        "        </tr>\n",
        "        <tr>\n",
        "            <td rowspan=1  style=\"border: 1px solid black; text-align: center;\"><a href=\"#Section71\">7.1 Uni Variate</a></td>\n",
        "        </tr>\n",
        "        <tr>\n",
        "            <td rowspan=1  style=\"border: 1px solid black; text-align: center;\"><a href=\"#Section72\">7.2 Bi Variate</a></td>\n",
        "        </tr>\n",
        "        <tr>\n",
        "            <td rowspan=1  style=\"border: 1px solid black; text-align: center;\"><a href=\"#Section73\">7.3 Mul Variate</a></td>\n",
        "        </tr>\n",
        "        <tr>\n",
        "            <td rowspan=1  style=\"border: 1px solid black; text-align: center;\"><a href=\"#Section8\">8 Summarization</a></td>\n",
        "        </tr>\n",
        "    </tbody>\n",
        "</table>"
      ]
    },
    {
      "cell_type": "markdown",
      "id": "1199ed7f",
      "metadata": {
        "id": "1199ed7f"
      },
      "source": [
        "<a name = TOC></a>\n",
        "# <u>Table of Contents</u>\n",
        "\n",
        "**1.** [**Introduction**](#Section1)<br>\n",
        "**2.** [**Problem Statement**](#Section2)<br>\n",
        "**3.** [**Installing & Importing Libraries**](#Section3)<br>\n",
        "**4.** [**Data Acquisition & Description**](#Section4)<br>\n",
        "**5.** [**Data Pre-profiling**](#Section5)<br>\n",
        "**6.** [**Data Pre-processing and Post-profiling**](#Section6)<br>\n",
        "**7.** [**Exploratory Data Analysis**](#Section7)<br>\n",
        "**8.** [**Summarization**](#Section8)<br>\n",
        "\n"
      ]
    },
    {
      "cell_type": "markdown",
      "id": "aa3e637f",
      "metadata": {
        "id": "aa3e637f"
      },
      "source": [
        "<a name = Section1></a>\n",
        "# 1. <u>Introduction</u>\n",
        "[To ToC](#TOC)\n",
        "\n",
        "- Use **minimum 3 points** and **images**\n",
        "\n",
        "<center><img width=40% src=\"https://raw.githubusercontent.com/insaid2018/PGPDSAI/main/03%20Term%203%20-%20EDA%20%26%20Data%20Storytelling/03%20Module%203/img/03%20mental-health.jpg\"></center>"
      ]
    },
    {
      "cell_type": "markdown",
      "id": "40ec5ca4",
      "metadata": {
        "id": "40ec5ca4"
      },
      "source": [
        "<a name = Section2></a>\n",
        "# 2. <u>Problem Statement</u>\n",
        "[To ToC](#TOC)\n",
        "\n",
        "- MESAURABLE\n",
        "- PRECISE\n",
        "- CLEAR\n",
        "<center><img width=40% src=\"https://raw.githubusercontent.com/insaid2018/PGPDSAI/main/03%20Term%203%20-%20EDA%20%26%20Data%20Storytelling/03%20Module%203/img/04%20mental-health.png\"></center>\n",
        "\n",
        "\n",
        "### **Scenario**\n",
        "\n",
        "- **A scenario**"
      ]
    },
    {
      "cell_type": "markdown",
      "id": "efb1854c",
      "metadata": {
        "id": "efb1854c"
      },
      "source": [
        "<a name = Section3></a>\n",
        "# 3. <u>Installing & Importing Libraries</u>\n",
        "[To ToC](#TOC)\n",
        "\n",
        "- 4 useful [EDA Libraries](https://towardsdatascience.com/4-libraries-that-can-perform-eda-in-one-line-of-python-code-b13938a06ae)"
      ]
    },
    {
      "cell_type": "markdown",
      "id": "1e00b560",
      "metadata": {
        "id": "1e00b560"
      },
      "source": [
        "### **3.1 Installing Libraries**"
      ]
    },
    {
      "cell_type": "code",
      "execution_count": null,
      "id": "7741e404",
      "metadata": {
        "id": "7741e404"
      },
      "outputs": [],
      "source": [
        "# Package that is required by pandas profiling\n",
        "# !pip install -q datascience\n",
        "\n",
        "# Library to generate basic statistics about data\n",
        "# !pip install -q pandas-profiling\n",
        "\n",
        "# Automatically Visualize any dataset\n",
        "# !pip install -q autoviz\n",
        "\n",
        "# Library to do EDA\n",
        "# !pip install -q sweetviz\n",
        "\n",
        "# Easy way to view & analyze Pandas data structures\n",
        "# !pip install -q dtale"
      ]
    },
    {
      "cell_type": "markdown",
      "id": "95a5eeee",
      "metadata": {
        "id": "95a5eeee"
      },
      "source": [
        "### **3.2 Upgrading Libraries**\n",
        "\n",
        "- **After upgrading** the libraries, you need to **restart the runtime** to make the libraries in sync. \n",
        "\n",
        "- Make sure not to execute the cell above (3.1) and below (3.2) again after restarting the runtime."
      ]
    },
    {
      "cell_type": "code",
      "execution_count": null,
      "id": "759dd63f",
      "metadata": {
        "id": "759dd63f"
      },
      "outputs": [],
      "source": [
        "# !pip install -q --upgrade pandas-profiling"
      ]
    },
    {
      "cell_type": "markdown",
      "id": "4edd7be6",
      "metadata": {
        "id": "4edd7be6"
      },
      "source": [
        "### **3.3 Importing Libraries**"
      ]
    },
    {
      "cell_type": "code",
      "execution_count": null,
      "id": "b39db247",
      "metadata": {
        "id": "b39db247"
      },
      "outputs": [],
      "source": [
        "#-------------------------------------------------------------------------------------------------------------------------------\n",
        "# Importing for numerical data analysis\n",
        "import numpy as np\n",
        "# Importing for panel data analysis\n",
        "import pandas as pd\n",
        "\n",
        "#-------------------------------------------------------------------------------------------------------------------------------\n",
        "\n",
        "# Importing for profiling the dataset\n",
        "# import dtale\n",
        "\n",
        "#-------------------------------------------------------------------------------------------------------------------------------\n",
        "\n",
        "# pd.set_option('display.max_columns', None)                          # Unfolding hidden features if the cardinality is high\n",
        "# pd.set_option('display.max_colwidth', None)                         # Unfolding the max feature width for better clearity\n",
        "# pd.set_option('display.max_rows', None)                             # Unfolding hidden data points if the cardinality is high\n",
        "# pd.set_option('mode.chained_assignment', None)                      # Removing restriction over chained assignments operations\n",
        "# pd.set_option('display.float_format', lambda x: '%.2f' % x)         # To suppress scientific notation over exponential values\n",
        "\n",
        "#-------------------------------------------------------------------------------------------------------------------------------\n",
        "\n",
        "# For counting hashable objects\n",
        "# from collections import Counter\n",
        "\n",
        "#-------------------------------------------------------------------------------------------------------------------------------\n",
        "\n",
        "# Importing pyplot interface using matplotlib\n",
        "import matplotlib.pyplot as plt\n",
        "# Importing seaborn library for interactive visualization\n",
        "import seaborn as sns\n",
        "%matplotlib inline\n",
        "\n",
        "#-------------------------------------------------------------------------------------------------------------------------------\n",
        "\n",
        "# import plotly for advanced interactive vizualisation and dashboarding\n",
        "# import plotly.express as px\n",
        "# import plotly.graph_objects as go\n",
        "\n",
        "#-------------------------------------------------------------------------------------------------------------------------------\n",
        "\n",
        "# Importing warning to disable runtime warnings\n",
        "import warnings\n",
        "# Warnings will appear only once\n",
        "warnings.filterwarnings(\"ignore\")"
      ]
    },
    {
      "cell_type": "markdown",
      "id": "0c035577",
      "metadata": {
        "id": "0c035577"
      },
      "source": [
        "<a name = Section4></a>\n",
        "# 4. <u>Data Acquisition & Understanding The Data</u>\n",
        "[To ToC](#TOC)\n",
        "\n",
        "- Source of dataset\n",
        "\n",
        "| Records | Features | Dataset Size |\n",
        "| :-- | :-- | :-- |\n",
        "| 100 | 5 | 10 KB| \n",
        "\n",
        "\n",
        "| Id | Features | Description |\n",
        "| :-- | :--| :--| \n",
        "|01|**Timestamp**|Time the survey was submitted.|\n",
        "|02|**Age**|The age of the person.| \n",
        "|03|**Gender**|The gender of the person.|\n",
        "|04|**Country**|The country name where person belongs to.|\n",
        "|05|**state**|The state name where person belongs to.|\n",
        "\n"
      ]
    },
    {
      "cell_type": "code",
      "execution_count": null,
      "id": "9cd74fa1",
      "metadata": {
        "id": "9cd74fa1"
      },
      "outputs": [],
      "source": [
        "url = 'file url or local file path'\n",
        "\n",
        "# in case of no header in data, header = None\n",
        "    # headers list\n",
        "    # headers = []\n",
        "    # to assign headers \n",
        "    # data.columns = headers\n",
        "    \n",
        "# in case of read error filepath_or_buffer = url\n",
        "# in case of encoding error, encoding = \"ISO-8859-1\"\n",
        "data = pd.read_csv(url)\n",
        "\n",
        "# to save df to csv \n",
        "# data.to_csv(path)\n",
        "\n",
        "print('Data Shape:', data.shape)\n",
        "data.head()"
      ]
    },
    {
      "cell_type": "markdown",
      "id": "3a2beb98",
      "metadata": {
        "id": "3a2beb98"
      },
      "source": [
        "### **4.1 Data Description**\n",
        "\n",
        "- In this section we will get **information (descriptive statistics) about the data** and see some observations."
      ]
    },
    {
      "cell_type": "code",
      "execution_count": null,
      "id": "a15ce3e7",
      "metadata": {
        "id": "a15ce3e7"
      },
      "outputs": [],
      "source": [
        "# To include all data types include='all'\n",
        "# To include only categorical data include='object'\n",
        "data.describe()"
      ]
    },
    {
      "cell_type": "markdown",
      "id": "3459c6f8",
      "metadata": {
        "id": "3459c6f8"
      },
      "source": [
        "### **Observations:**\n",
        "\n",
        "- Some observations."
      ]
    },
    {
      "cell_type": "markdown",
      "id": "463205ee",
      "metadata": {
        "id": "463205ee"
      },
      "source": [
        "### **4.2 Data Information**\n",
        "\n",
        "- In this section we will see the **information about the types of features and investigate each feature**."
      ]
    },
    {
      "cell_type": "code",
      "execution_count": null,
      "id": "6457e85a",
      "metadata": {
        "id": "6457e85a"
      },
      "outputs": [],
      "source": [
        "data.info()"
      ]
    },
    {
      "cell_type": "markdown",
      "id": "540abd12",
      "metadata": {
        "id": "540abd12"
      },
      "source": [
        "<a name = Section421></a>\n",
        "#### **4.2.1 Exploring the Features**\n",
        "\n",
        "- In this section we will **dive into all the features to get a better understanding of the whole dataset**."
      ]
    },
    {
      "cell_type": "code",
      "execution_count": null,
      "id": "c7af9f68",
      "metadata": {
        "id": "c7af9f68"
      },
      "outputs": [],
      "source": [
        "print('Number of unique values : ',data.col_name.nunique())\n",
        "\n",
        "print(f\"Minimum and maximum values are {data['col_name'].min()} and {data['col_name'].max()} respectively\")\n",
        "\n",
        "# get list of unique vals count from cat cols\n",
        "data['col_name'].value_counts()\n",
        "\n",
        "# get random samples of the column\n",
        "data.col_name.sample(5)\n",
        "\n"
      ]
    },
    {
      "cell_type": "markdown",
      "id": "39396a5d",
      "metadata": {
        "id": "39396a5d"
      },
      "source": [
        "### **Observations:**\n",
        "\n",
        "- Some observations."
      ]
    },
    {
      "cell_type": "markdown",
      "id": "4a2b6f6f",
      "metadata": {
        "id": "4a2b6f6f"
      },
      "source": [
        "<a name = Section5></a>\n",
        "# 5. <u>Data Pre-Profiling</u>\n",
        "[To ToC](#TOC) <br>\n",
        "\n",
        "- [List of Dataframe functions](https://www.w3schools.com/python/pandas/pandas_ref_dataframe.asp)\n",
        "- misssing values - .info()\n",
        "- outlier - BOXplot, describe\n",
        "- duplicates - .duplicated()\n",
        "- inconstancy in dtypes - know what the type should be, info can see what it actually is.\n",
        "- typos - check for value_counts() or unique()\n",
        "- format - check by unique"
      ]
    },
    {
      "cell_type": "markdown",
      "id": "21dc40ab",
      "metadata": {
        "id": "21dc40ab"
      },
      "source": [
        "<a name = Section51></a>\n",
        "### **5.1 Checking for Missing Data**\n",
        "\n",
        "- In this section, we will identify missing data and check the proportion of it and take appropriate measures."
      ]
    },
    {
      "cell_type": "code",
      "execution_count": null,
      "id": "ec918b1d",
      "metadata": {
        "id": "ec918b1d"
      },
      "outputs": [],
      "source": [
        "# check if values are missing - isnull() alt method\n",
        "data.isna().sum()\n",
        "\n",
        "# percentage of missing values\n",
        "print(data.isna().sum() * 100 / len(data))\n",
        "\n",
        "#-------------------------------------------------------------------------------------------------------------------------------\n",
        "\n",
        "# making a df of null counting\n",
        "\n",
        "null_frame = pd.DataFrame(index = data.columns.values)\n",
        "null_frame['Null Frequency'] = data.isnull().sum().values\n",
        "percent = movies_df.isnull().sum().values/movies_df.shape[0]\n",
        "null_frame['Missing %age'] = np.round(percent, decimals = 4) * 100\n",
        "null_frame.transpose()"
      ]
    },
    {
      "cell_type": "markdown",
      "id": "c67aef75",
      "metadata": {
        "id": "c67aef75"
      },
      "source": [
        "### **5.2 Checking for duplicate Datapoints and Features**\n",
        "\n",
        "- In this section, we will identify redundant data and check the proportion of it and take appropriate measures."
      ]
    },
    {
      "cell_type": "code",
      "execution_count": null,
      "id": "59eb4c1c",
      "metadata": {
        "id": "59eb4c1c"
      },
      "outputs": [],
      "source": [
        "print('Contains how many Duplicate Rows?', data.duplicated().sum())"
      ]
    },
    {
      "cell_type": "markdown",
      "id": "ee95e003",
      "metadata": {
        "id": "ee95e003"
      },
      "source": [
        "### **5.3 Checking for Inconsistency in Data Types**\n",
        "\n",
        "- In this section, we will **identify inconsistency** in data types.\n"
      ]
    },
    {
      "cell_type": "code",
      "execution_count": null,
      "id": "7ed2fe4d",
      "metadata": {
        "id": "7ed2fe4d"
      },
      "outputs": [],
      "source": [
        "type_frame = pd.DataFrame(data = movies_df.dtypes, columns = ['Type'])\n",
        "type_frame.transpose()"
      ]
    },
    {
      "cell_type": "markdown",
      "id": "171ba4cc",
      "metadata": {
        "id": "171ba4cc"
      },
      "source": [
        "### **5.4 Checking for Typos**"
      ]
    },
    {
      "cell_type": "code",
      "execution_count": null,
      "id": "6f7eae32",
      "metadata": {
        "id": "6f7eae32"
      },
      "outputs": [],
      "source": [
        "# data.col_name.sort_values().unique()"
      ]
    },
    {
      "cell_type": "markdown",
      "id": "03a802ac",
      "metadata": {
        "id": "03a802ac"
      },
      "source": [
        "### **5.5 Checking for Outliers**\n",
        "\n",
        "- Check for outliers in our data - [Article](https://www.analyticsvidhya.com/blog/2021/05/feature-engineering-how-to-detect-and-remove-outliers-with-python-code/)"
      ]
    },
    {
      "cell_type": "code",
      "execution_count": null,
      "id": "f6423e04",
      "metadata": {
        "id": "f6423e04"
      },
      "outputs": [],
      "source": [
        "# sorting\n",
        "data['col_name'].sort_values(ascending=False)"
      ]
    },
    {
      "cell_type": "markdown",
      "id": "51aecd17",
      "metadata": {
        "id": "51aecd17"
      },
      "source": [
        "#### using box plot method"
      ]
    },
    {
      "cell_type": "code",
      "execution_count": null,
      "id": "167e6fd8",
      "metadata": {
        "id": "167e6fd8"
      },
      "outputs": [],
      "source": [
        "plt.figure(figsize=(16,5))\n",
        "plt.subplot(1,2,1)\n",
        "sns.boxplot(data['col1'])\n",
        "plt.subplot(1,2,2)\n",
        "sns.boxplot(data['col2'])\n",
        "plt.show()"
      ]
    },
    {
      "cell_type": "markdown",
      "id": "5647949d",
      "metadata": {
        "id": "5647949d"
      },
      "source": [
        "#### using z-score method"
      ]
    },
    {
      "cell_type": "code",
      "execution_count": null,
      "id": "d826defc",
      "metadata": {
        "id": "d826defc"
      },
      "outputs": [],
      "source": [
        "# Finding the Boundary Values\n",
        "print(\"Highest allowed\",data['col1'].mean() + 3*data['col1'].std())\n",
        "print(\"Lowest allowed\",data['col1'].mean() - 3*data['col1'].std())\n",
        "\n",
        "# trimming outliers\n",
        "new_df = data[(data['col1'] < highest) & (data['col1'] > lowest)]"
      ]
    },
    {
      "cell_type": "markdown",
      "id": "8674486f",
      "metadata": {
        "id": "8674486f"
      },
      "source": [
        "#### using iqr method"
      ]
    },
    {
      "cell_type": "code",
      "execution_count": null,
      "id": "c91083d3",
      "metadata": {
        "id": "c91083d3"
      },
      "outputs": [],
      "source": [
        "# finding iqr\n",
        "percentile25 = data['col1'].quantile(0.25)\n",
        "percentile75 = data['col1'].quantile(0.75)\n",
        "\n",
        "# find upper and lower limit\n",
        "upper_limit = percentile75 + 1.5 * iqr\n",
        "lower_limit = percentile25 - 1.5 * iqr\n",
        "\n",
        "# trimming outliers\n",
        "new_df = data[(data['col1'] < upper_limit) & (data['col1'] > lower_limit)]"
      ]
    },
    {
      "cell_type": "markdown",
      "id": "82b04fe4",
      "metadata": {
        "id": "82b04fe4"
      },
      "source": [
        "#### using percent method"
      ]
    },
    {
      "cell_type": "code",
      "execution_count": null,
      "id": "76db2ba5",
      "metadata": {
        "id": "76db2ba5"
      },
      "outputs": [],
      "source": [
        "# finding 99 and 1 percent\n",
        "upper_limit = data['col1'].quantile(0.99)\n",
        "lower_limit = data['col1'].quantile(0.01)\n",
        "\n",
        "# trimming outliers\n",
        "new_df = data[(data['col1'] <= upper_limit) & (data['col1'] >= lower_limit)]"
      ]
    },
    {
      "cell_type": "markdown",
      "id": "dd88c913",
      "metadata": {
        "id": "dd88c913"
      },
      "source": [
        "### **Observations:**\n",
        "\n",
        "- **Something** observed."
      ]
    },
    {
      "cell_type": "markdown",
      "id": "d6591b90",
      "metadata": {
        "id": "d6591b90"
      },
      "source": [
        "<a name = Section6></a>\n",
        "# 6. <u>Data Pre-Processing and Post-profiling</u>\n",
        "[**To ToC**](#TOC) \n",
        "\n",
        "- [List of Dataframe functions](https://www.w3schools.com/python/pandas/pandas_ref_dataframe.asp)\n",
        "- outlier - drop - dependent of the objective - contextual\n",
        "- duplicates - .drop_duplicates() - contextual\n",
        "- misssing values - fillna(mean/median/mode) or delete the row/column.\n",
        "- inconstancy in dtypes - .astype()\n",
        "- typos - replace\n",
        "- format - replace"
      ]
    },
    {
      "cell_type": "markdown",
      "id": "040b0c34",
      "metadata": {
        "id": "040b0c34"
      },
      "source": [
        "### **6.1 Changing column names**"
      ]
    },
    {
      "cell_type": "code",
      "execution_count": null,
      "id": "d79496b2",
      "metadata": {
        "id": "d79496b2"
      },
      "outputs": [],
      "source": [
        "data.columns"
      ]
    },
    {
      "cell_type": "code",
      "execution_count": null,
      "id": "9cb5db79",
      "metadata": {
        "id": "9cb5db79"
      },
      "outputs": [],
      "source": [
        "data.rename(columns = {'xyz':'col1', 'abc': 'col2'}, inplace = True)\n",
        "data.columns"
      ]
    },
    {
      "cell_type": "markdown",
      "id": "5c31651c",
      "metadata": {
        "id": "5c31651c"
      },
      "source": [
        "### **6.2 Handling of Missing Data & '0' Values**\n",
        "\n",
        "- In this section, we will take appropriate measures for missing data."
      ]
    },
    {
      "cell_type": "markdown",
      "id": "b9c21c0d",
      "metadata": {
        "id": "b9c21c0d"
      },
      "source": [
        "**Previous Observations:**\n",
        "\n",
        "- We can observe that following features are found to have missing values along with the proportions:\n",
        "\n",
        "|Feature|Object Type|Missing Proportion|Solution|\n",
        "|:--:|:--:|:--:|:--|\n",
        "|abcd|Object|40%|Replace with mode.|\n",
        "|ijml|Int|40%|Replace with median.|\n",
        "|ketu|Float|40%|Replace with mean.|\n",
        "|xyzh|Object|86.97%|Drop the feature.|"
      ]
    },
    {
      "cell_type": "code",
      "execution_count": null,
      "id": "f9ddd6c7",
      "metadata": {
        "id": "f9ddd6c7"
      },
      "outputs": [],
      "source": [
        "# to replace with mode\n",
        "# value = data['col_name'].mode()[0]\n",
        "\n",
        "# to replace with mean/median\n",
        "# value = data['col_name'].mean()\n",
        "\n",
        "data['col_name'].fillna(value, axis=0, inplace=True)"
      ]
    },
    {
      "cell_type": "code",
      "execution_count": null,
      "id": "49e0d209",
      "metadata": {
        "id": "49e0d209"
      },
      "outputs": [],
      "source": [
        "# Dropping rows containing missing values\n",
        "data.dropna(inplace=True)                                        "
      ]
    },
    {
      "cell_type": "code",
      "execution_count": null,
      "id": "dedacc28",
      "metadata": {
        "id": "dedacc28"
      },
      "outputs": [],
      "source": [
        "# to replace missing value\n",
        "data.replace(missing_val, new_val)"
      ]
    },
    {
      "cell_type": "code",
      "execution_count": null,
      "id": "a7c174d9",
      "metadata": {
        "id": "a7c174d9"
      },
      "outputs": [],
      "source": [
        "# dropping 0 value\n",
        "data = data[data['col1']!=0]"
      ]
    },
    {
      "cell_type": "code",
      "execution_count": null,
      "id": "63af6c7c",
      "metadata": {
        "id": "63af6c7c"
      },
      "outputs": [],
      "source": [
        "# checking the changes\n",
        "\n",
        "null_frame = pd.DataFrame(index = data.columns.values)\n",
        "null_frame['Null Frequency'] = data.isnull().sum().values\n",
        "percent = movies_df.isnull().sum().values/movies_df.shape[0]\n",
        "null_frame['Missing %age'] = np.round(percent, decimals = 4) * 100\n",
        "null_frame.transpose()"
      ]
    },
    {
      "cell_type": "markdown",
      "id": "3eb5c030",
      "metadata": {
        "id": "3eb5c030"
      },
      "source": [
        "### **6.3 Typecasting and Dropping not needed Features**\n",
        "\n",
        "- In this section, we will **take appropriate measures** for inconsistent data.\n",
        "\n",
        "- Previously, we observed that **Timestamp** feature was **incorrectly indentified** as Object, so, we will rectify it.\n",
        "\n",
        "- [Drop](https://www.w3schools.com/python/pandas/ref_df_drop.asp) not neeeded cols\n",
        "- To [typecast](https://www.w3schools.com/python/pandas/ref_df_astype.asp) datatype"
      ]
    },
    {
      "cell_type": "code",
      "execution_count": null,
      "id": "48d302e7",
      "metadata": {
        "id": "48d302e7"
      },
      "outputs": [],
      "source": [
        "# dropping clos\n",
        "data.drop(\"xyz\", axis=1, inplace=True)"
      ]
    },
    {
      "cell_type": "code",
      "execution_count": null,
      "id": "19cc1a68",
      "metadata": {
        "id": "19cc1a68"
      },
      "outputs": [],
      "source": [
        "# type casting\n",
        "data[[\"Age\"]] = date[[\"Age\"]].astype(\"int\")"
      ]
    },
    {
      "cell_type": "code",
      "execution_count": null,
      "id": "a6a66ed4",
      "metadata": {
        "id": "a6a66ed4"
      },
      "outputs": [],
      "source": [
        "# typecast the col to datetime\n",
        "data['Date']= pd.to_datetime(data['Date'])"
      ]
    },
    {
      "cell_type": "markdown",
      "id": "d5f57408",
      "metadata": {
        "id": "d5f57408"
      },
      "source": [
        "### **6.4 Handling of Redundant Data**\n",
        "\n",
        "- In this section, we will take appropriate measures for redundant data."
      ]
    },
    {
      "cell_type": "code",
      "execution_count": null,
      "id": "130cb28e",
      "metadata": {
        "id": "130cb28e"
      },
      "outputs": [],
      "source": [
        "# We will start by first removing the duplicate rows\n",
        "data.drop_duplicates(inplace=True)"
      ]
    },
    {
      "cell_type": "markdown",
      "id": "9c685705",
      "metadata": {
        "id": "9c685705"
      },
      "source": [
        "### **6.5 Handeling Typos**\n"
      ]
    },
    {
      "cell_type": "code",
      "execution_count": null,
      "id": "46f9078c",
      "metadata": {
        "id": "46f9078c"
      },
      "outputs": [],
      "source": []
    },
    {
      "cell_type": "markdown",
      "id": "86d11f15",
      "metadata": {
        "id": "86d11f15"
      },
      "source": [
        "### **6.6 Handling of Outliers**\n",
        "\n",
        "- Drop or Keep, Depends on Context"
      ]
    },
    {
      "cell_type": "code",
      "execution_count": null,
      "id": "f26afb60",
      "metadata": {
        "id": "f26afb60"
      },
      "outputs": [],
      "source": [
        "# filtering the outliers \n",
        "data = data[data['Age'] < 75 & data['Age'] > 18]"
      ]
    },
    {
      "cell_type": "markdown",
      "id": "872f70e1",
      "metadata": {
        "id": "872f70e1"
      },
      "source": [
        "### **Observations:**\n",
        "\n",
        "- **Check the cleaned dataset using .head() .describe() .info()**"
      ]
    },
    {
      "cell_type": "markdown",
      "id": "a2bd938f",
      "metadata": {
        "id": "a2bd938f"
      },
      "source": [
        "<a name = Section7></a>\n",
        "# 7. <u>Exploratory Data Analysis</u>\n",
        "[**To ToC**](#TOC)\n",
        "\n",
        "#### Asking 15+-5 - relevant, reasonable, non vague questions<br>"
      ]
    },
    {
      "cell_type": "markdown",
      "id": "ea75caac",
      "metadata": {
        "id": "ea75caac"
      },
      "source": [
        "<a name = Section71></a>\n",
        "### 7.1 Uni-variate"
      ]
    },
    {
      "cell_type": "markdown",
      "id": "ffb9206d",
      "metadata": {
        "id": "ffb9206d"
      },
      "source": [
        "## Q1"
      ]
    },
    {
      "cell_type": "code",
      "execution_count": null,
      "id": "d8015201",
      "metadata": {
        "id": "d8015201"
      },
      "outputs": [],
      "source": []
    },
    {
      "cell_type": "markdown",
      "id": "14c4982c",
      "metadata": {
        "id": "14c4982c"
      },
      "source": [
        "<a name = Section72></a>\n",
        "### 7.2 Bi-variate"
      ]
    },
    {
      "cell_type": "markdown",
      "id": "95f35529",
      "metadata": {
        "id": "95f35529"
      },
      "source": [
        "## Q2"
      ]
    },
    {
      "cell_type": "code",
      "execution_count": null,
      "id": "76e6bec1",
      "metadata": {
        "id": "76e6bec1"
      },
      "outputs": [],
      "source": []
    },
    {
      "cell_type": "markdown",
      "id": "74210d48",
      "metadata": {
        "id": "74210d48"
      },
      "source": [
        "<a name = Section73></a>\n",
        "### 7.3 Multi-variate"
      ]
    },
    {
      "cell_type": "markdown",
      "id": "079648c2",
      "metadata": {
        "id": "079648c2"
      },
      "source": [
        "## Q3"
      ]
    },
    {
      "cell_type": "code",
      "execution_count": null,
      "id": "6d2ac9ff",
      "metadata": {
        "id": "6d2ac9ff"
      },
      "outputs": [],
      "source": []
    },
    {
      "cell_type": "markdown",
      "id": "5af314b8",
      "metadata": {
        "id": "5af314b8"
      },
      "source": [
        "<a name = Section8></a>\n",
        "# 8. <u>Conclusion & Summarization</u>\n",
        "[To ToC](#TOC)\n",
        "\n",
        "##### P-R-E-P approach to represent Actionable Insights we extracted out of Analysis\n",
        "- P - Point - Describe the POINT (Actionable Insight)\n",
        "- R - Reason - Rationale behind the stated POINT (Actionable Insight)\n",
        "- E - Example - Support the POINT with an EXAMPLE\n",
        "- P - Point - Converge back to POINT (Actionable Insight)"
      ]
    },
    {
      "cell_type": "markdown",
      "id": "5d77f4a9",
      "metadata": {
        "id": "5d77f4a9"
      },
      "source": [
        "### **<h4>Conclusion</h4>**\n",
        "\n",
        "- **Points from the EDA observations**"
      ]
    },
    {
      "cell_type": "markdown",
      "id": "2e56853b",
      "metadata": {
        "id": "2e56853b"
      },
      "source": [
        "### **<h4>Actionable Insights</h4>**\n",
        "- **What actions could be taken**"
      ]
    },
    {
      "cell_type": "markdown",
      "id": "868240c4",
      "metadata": {
        "id": "868240c4"
      },
      "source": [
        "# <u>Code Dump</u>\n",
        "[To ToC](#TOC)"
      ]
    },
    {
      "cell_type": "markdown",
      "id": "228a2e6c",
      "metadata": {
        "id": "228a2e6c"
      },
      "source": [
        "### pearson corr\n",
        "correlation between 2 cont int variables\n",
        "- **corr coefficient** \n",
        " - close to +1 = large positive corr\n",
        " - close to -1 = large negative corr\n",
        " - close to 0 = no corr\n",
        "- **p-value**\n",
        " - < 0.001 = strong\n",
        " - < 0.05 = moderate\n",
        " - < 0.1 = weak\n",
        " - > 0.1 = not certain"
      ]
    },
    {
      "cell_type": "code",
      "execution_count": null,
      "id": "cfa09610",
      "metadata": {
        "id": "cfa09610"
      },
      "outputs": [],
      "source": [
        "# groupby col_name with mean of col_name2 and sort in descending order\n",
        "data.groupby('col_name')['col_name2'].mean().sort_values(ascending=False)\n",
        "\n",
        "# groupby function to find the average \"col1\" based on \"col2\"\n",
        "data[['col1','col2']].groupby(['col2'],as_index= False).mean()\n",
        "\n",
        "# plotting the above condition\n",
        "sns.barplot(x='col_name', y='col_name2', data=data)\n",
        "plt.title('Title')\n",
        "plt.show()"
      ]
    },
    {
      "cell_type": "code",
      "execution_count": null,
      "id": "9a685610",
      "metadata": {
        "id": "9a685610"
      },
      "outputs": [],
      "source": [
        "# display top 10 col_name values with col_name2.....col_name_n\n",
        "temp = data.nlargest(10, 'col_name')[['col_name','col_name2', 'col_name3']]\n",
        "\n",
        "# plot - hue(bar colors) = col_name3\n",
        "sns.barplot(x='col_name', y = 'col_name2', data = temp, hue='col_name3')"
      ]
    },
    {
      "cell_type": "code",
      "execution_count": null,
      "id": "02e45c22",
      "metadata": {
        "id": "02e45c22"
      },
      "outputs": [],
      "source": [
        "# display no of times an unique value occurred\n",
        "data.col_name.value_counts()\n",
        "\n",
        "# plot\n",
        "sns.countplot(x='col_name', data=data)"
      ]
    },
    {
      "cell_type": "code",
      "execution_count": null,
      "id": "1791c34c",
      "metadata": {
        "id": "1791c34c"
      },
      "outputs": [],
      "source": [
        "# is col_name affected by col_name2?\n",
        "sns.scatterplot(x='col_name2', y = 'col_name', data=data)"
      ]
    },
    {
      "cell_type": "code",
      "execution_count": null,
      "id": "96626298",
      "metadata": {
        "id": "96626298"
      },
      "outputs": [],
      "source": [
        "# count specefic values in an object feature\n",
        "# case = True for case sensitive\n",
        "len(data['col'].str.contains('value', case=False))"
      ]
    },
    {
      "cell_type": "code",
      "execution_count": null,
      "id": "18805d4b",
      "metadata": {
        "id": "18805d4b"
      },
      "outputs": [],
      "source": [
        "bins = np.linspace(min(data['col1']), max(data['col1']), 4)     # 4 for creating 3 equal spaced bins\n",
        "bin_names = ['low', 'mid', 'high']\n",
        "# create col for binned val\n",
        "data['binned_vals'] = pd.cut(df['col1'], bins, labels=bin_names, include_lowest=True)\n",
        "# use histogram for viz of the bins"
      ]
    }
  ],
  "metadata": {
    "kernelspec": {
      "display_name": "Python 3 (ipykernel)",
      "language": "python",
      "name": "python3"
    },
    "language_info": {
      "codemirror_mode": {
        "name": "ipython",
        "version": 3
      },
      "file_extension": ".py",
      "mimetype": "text/x-python",
      "name": "python",
      "nbconvert_exporter": "python",
      "pygments_lexer": "ipython3",
      "version": "3.9.12"
    },
    "colab": {
      "provenance": [],
      "include_colab_link": true
    }
  },
  "nbformat": 4,
  "nbformat_minor": 5
}
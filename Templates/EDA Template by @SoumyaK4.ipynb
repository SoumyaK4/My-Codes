{
 "cells": [
  {
   "cell_type": "markdown",
   "id": "cc308621",
   "metadata": {},
   "source": [
    "<center><img src=\"https://github.com/SoumyaK4/SoumyaK4/blob/main/Logo%20B.png?raw=true\" width=\"120\" height=\"50\" /></center>"
   ]
  },
  {
   "cell_type": "markdown",
   "id": "1199ed7f",
   "metadata": {},
   "source": [
    "---\n",
    "<a name = TOC></a>\n",
    "# **Table of Contents**\n",
    "---\n",
    "\n",
    "**1.** [**Introduction**](#Section1)<br>\n",
    "**2.** [**Problem Statement**](#Section2)<br>\n",
    "**3.** [**Installing & Importing Libraries**](#Section3)<br>\n",
    "  - **3.1** [**Installing Libraries**](#Section31)\n",
    "  - **3.2** [**Upgrading Libraries**](#Section32)\n",
    "  - **3.3** [**Importing Libraries**](#Section33)\n",
    "\n",
    "**4.** [**Data Acquisition & Description**](#Section4)<br>\n",
    "  - **4.1** [**Data Description**](#Section41)\n",
    "  - **4.2** [**Data Information**](#Section42)\n",
    "\n",
    "**5.** [**Data Pre-profiling**](#Section5)<br>\n",
    "  - **5.1** [**Checking for Missing Data**](#Section51)\n",
    "  - **5.2** [**Checking for Redundant Data**](#Section52)\n",
    "  - **5.3** [**Checking for Inconsistent Data**](#Section53)\n",
    "  - **5.4** [**Checking for Outliers**](#Section54)\n",
    "\n",
    "**6.** [**Data Pre-processing**](#Section6)<br>\n",
    "  - **6.1** [**Handling of Missing Data**](#Section61)\n",
    "  - **6.2** [**Handling of Redundant Data**](#Section62)\n",
    "  - **6.3** [**Handling of Inconsistent Data**](#Section63)\n",
    "  - **6.4** [**Handling of Outliers**](#Section64)\n",
    "\n",
    "**7.** [**Data Post-profiling**](#Section7)<br>\n",
    "  - **7.1** [**Checking for Missing Data**](#Section71)\n",
    "  - **7.2** [**Checking for Redundant Data**](#Section72)\n",
    "  - **7.3** [**Checking for Inconsistent Data**](#Section73)\n",
    "  - **7.4** [**Checking for Outliers**](#Section74)\n",
    "\n",
    "**8.** [**Exploratory Data Analysis**](#Section8)<br>\n",
    "  - **8.1** [**How does age relate to various behaviors and/or their awareness of their employer's attitude toward mental health?**](#Section81)\n",
    "  - **8.2** [**What is the density distribution of Age feature?**](#Section82)\n",
    "\n",
    "**9.** [**Summarization**](#Section9)<br>"
   ]
  },
  {
   "cell_type": "markdown",
   "id": "aa3e637f",
   "metadata": {},
   "source": [
    "---\n",
    "<a name = Section1></a>\n",
    "# **1. Introduction**\n",
    "[To ToC](#TOC)\n",
    "\n",
    "---\n",
    "\n",
    "- Use **minimum 3 points** and 2 images \n",
    "\n",
    "<center><img width=40% src=\"https://raw.githubusercontent.com/insaid2018/PGPDSAI/main/03%20Term%203%20-%20EDA%20%26%20Data%20Storytelling/03%20Module%203/img/03%20mental-health.jpg\"></center>"
   ]
  },
  {
   "cell_type": "markdown",
   "id": "40ec5ca4",
   "metadata": {},
   "source": [
    "---\n",
    "<a name = Section2></a>\n",
    "# **2. Problem Statement**\n",
    "[To ToC](#TOC)\n",
    "\n",
    "---\n",
    "- Write down the problems\n",
    "\n",
    "<center><img width=40% src=\"https://raw.githubusercontent.com/insaid2018/PGPDSAI/main/03%20Term%203%20-%20EDA%20%26%20Data%20Storytelling/03%20Module%203/img/04%20mental-health.png\"></center>\n",
    "\n",
    "\n",
    "**<h4>Scenario</h4>**\n",
    "\n",
    "- <a href=\"https://osmihelp.org/\">**OSMI**</a>, an organization is working to **help people** to **identify** and **overcome mental health disorders** while working in a tech space.\n",
    "\n",
    "- They **perform surveys** to **measure attitudes** towards mental health in the tech workplace.\n",
    "\n",
    "- Checkout <a href=\"https://www.youtube.com/watch?v=NHulgcO_16U&list=PL1MEC8mwrpaIdzYKRidvNB5eYSwWrqFZ3\">**Talks at Google**</a> to get better clarity about Mental Health in the Tech Industry.\n"
   ]
  },
  {
   "cell_type": "markdown",
   "id": "efb1854c",
   "metadata": {},
   "source": [
    "---\n",
    "<a name = Section3></a>\n",
    "# **3. Installing & Importing Libraries**\n",
    "[To ToC](#TOC)\n",
    "\n",
    "---\n",
    "\n",
    "- 4 useful [EDA Libraries](https://towardsdatascience.com/4-libraries-that-can-perform-eda-in-one-line-of-python-code-b13938a06ae)"
   ]
  },
  {
   "cell_type": "markdown",
   "id": "1e00b560",
   "metadata": {},
   "source": [
    "<a name = Section31></a>\n",
    "### **3.1 Installing Libraries**"
   ]
  },
  {
   "cell_type": "code",
   "execution_count": null,
   "id": "7741e404",
   "metadata": {},
   "outputs": [],
   "source": [
    "# !pip install -q datascience                                         # Package that is required by pandas profiling\n",
    "# !pip install -q pandas-profiling                                    # Library to generate basic statistics about data\n",
    "# !pip install -q autoviz                                             # Automatically Visualize any dataset\n",
    "# !pip install -q sweetviz                                            # Library to do EDA\n",
    "!pip install -q dtale                                               # Easy way to view & analyze Pandas data structures"
   ]
  },
  {
   "cell_type": "markdown",
   "id": "95a5eeee",
   "metadata": {},
   "source": [
    "<a name = Section32></a>\n",
    "### **3.2 Upgrading Libraries**\n",
    "\n",
    "- **After upgrading** the libraries, you need to **restart the runtime** to make the libraries in sync. \n",
    "\n",
    "- Make sure not to execute the cell above (3.1) and below (3.2) again after restarting the runtime."
   ]
  },
  {
   "cell_type": "code",
   "execution_count": null,
   "id": "759dd63f",
   "metadata": {},
   "outputs": [],
   "source": [
    "# !pip install -q --upgrade pandas-profiling"
   ]
  },
  {
   "cell_type": "markdown",
   "id": "4edd7be6",
   "metadata": {},
   "source": [
    "<a name = Section33></a>\n",
    "### **3.3 Importing Libraries**"
   ]
  },
  {
   "cell_type": "code",
   "execution_count": null,
   "id": "b39db247",
   "metadata": {},
   "outputs": [],
   "source": [
    "#-------------------------------------------------------------------------------------------------------------------------------\n",
    "import numpy as np                                                  # Importing for numerical data analysis\n",
    "import pandas as pd                                                 # Importing for panel data analysis\n",
    "import dtale                                                        # Importing for profiling the dataset\n",
    "# pd.set_option('display.max_columns', None)                          # Unfolding hidden features if the cardinality is high\n",
    "# pd.set_option('display.max_colwidth', None)                         # Unfolding the max feature width for better clearity\n",
    "# pd.set_option('display.max_rows', None)                             # Unfolding hidden data points if the cardinality is high\n",
    "# pd.set_option('mode.chained_assignment', None)                      # Removing restriction over chained assignments operations\n",
    "pd.set_option('display.float_format', lambda x: '%.2f' % x)         # To suppress scientific notation over exponential values\n",
    "#-------------------------------------------------------------------------------------------------------------------------------\n",
    "# from collections import Counter                                     # For counting hashable objects\n",
    "#-------------------------------------------------------------------------------------------------------------------------------\n",
    "import matplotlib.pyplot as plt                                     # Importing pyplot interface using matplotlib\n",
    "import seaborn as sns                                               # Importin seaborm library for interactive visualization\n",
    "%matplotlib inline\n",
    "#-------------------------------------------------------------------------------------------------------------------------------\n",
    "import warnings                                                     # Importing warning to disable runtime warnings\n",
    "warnings.filterwarnings(\"ignore\")                                   # Warnings will appear only once"
   ]
  },
  {
   "cell_type": "markdown",
   "id": "0c035577",
   "metadata": {},
   "source": [
    "---\n",
    "<a name = Section4></a>\n",
    "# **4. Data Acquisition & Description**\n",
    "[To ToC](#TOC)\n",
    "\n",
    "---\n",
    "\n",
    "- This dataset is obtained from a survey in 2014.\n",
    "\n",
    "| Records | Features | Dataset Size |\n",
    "| :-- | :-- | :-- |\n",
    "| 100 | 5 | 10 KB| \n",
    "\n",
    "\n",
    "| Id | Features | Description |\n",
    "| :-- | :--| :--| \n",
    "|01|**Timestamp**|Time the survey was submitted.|\n",
    "|02|**Age**|The age of the person.| \n",
    "|03|**Gender**|The gender of the person.|\n",
    "|04|**Country**|The country name where person belongs to.|\n",
    "|05|**state**|The state name where person belongs to.|\n",
    "\n"
   ]
  },
  {
   "cell_type": "code",
   "execution_count": null,
   "id": "9cd74fa1",
   "metadata": {},
   "outputs": [],
   "source": [
    "data = pd.read_csv(filepath_or_buffer='https://raw.githubusercontent.com/insaid2018/Term-1/master/Data/Casestudy/survey.csv')\n",
    "print('Data Shape:', data.shape)\n",
    "data.head()"
   ]
  },
  {
   "cell_type": "markdown",
   "id": "3a2beb98",
   "metadata": {},
   "source": [
    "<a name = Section41></a>\n",
    "### **4.1 Data Description**\n",
    "\n",
    "- In this section we will get **information about the data** and see some observations."
   ]
  },
  {
   "cell_type": "code",
   "execution_count": null,
   "id": "a15ce3e7",
   "metadata": {},
   "outputs": [],
   "source": [
    "data.describe()\n",
    "# data.describe(include='all')                                # To include all data types"
   ]
  },
  {
   "cell_type": "code",
   "execution_count": null,
   "id": "70cc235e",
   "metadata": {},
   "outputs": [],
   "source": [
    "IQR = data.Quantity.describe()['75%'] - data.Quantity.describe()['25%']\n",
    "\n",
    "low_range = data.Quantity.describe()['25%'] - 1.5*IQR\n",
    "high_range = data.Quantity.describe()['75%'] + 1.5*IQR\n",
    "\n",
    "print('Low range  : {} '.format(low_range))\n",
    "print('High range : {} '.format(high_range))\n"
   ]
  },
  {
   "cell_type": "markdown",
   "id": "3459c6f8",
   "metadata": {},
   "source": [
    "**Observations:**\n",
    "\n",
    "- The **average age** of the person is found to be **79428148 years** and it is **absurd**.\n",
    "\n",
    "- Around **25%** of people have an **age** less than or equal to **27 years**."
   ]
  },
  {
   "cell_type": "markdown",
   "id": "463205ee",
   "metadata": {},
   "source": [
    "<a name = Section42></a>\n",
    "### **4.2 Data Information**\n",
    "\n",
    "- In this section we will see the **information about the types of features**."
   ]
  },
  {
   "cell_type": "code",
   "execution_count": null,
   "id": "6457e85a",
   "metadata": {},
   "outputs": [],
   "source": [
    "data.info()"
   ]
  },
  {
   "cell_type": "markdown",
   "id": "2a1974d5",
   "metadata": {},
   "source": [
    "**Observations:**\n",
    "\n",
    "- The **minimum** and **maximum ages** are found to be **negative** and **very large numbers**.\n",
    "\n",
    "- It implies that there is **something wrong** with our **data**."
   ]
  },
  {
   "cell_type": "markdown",
   "id": "4a2b6f6f",
   "metadata": {},
   "source": [
    "---\n",
    "<a name = Section5></a>\n",
    "# **5. Data Pre-Profiling**\n",
    "[To ToC](#TOC) <br>\n",
    "\n",
    "---\n",
    "\n",
    "- [List of Dataframe functions](https://www.w3schools.com/python/pandas/pandas_ref_dataframe.asp)\n",
    "- outlier - BOXplot, describe\n",
    "- duplicates - .duplicated()\n",
    "- misssing values - .info()\n",
    "- inconstancy in dtypes - know what the type should be, info can see what it actually is.\n",
    "- typos - check for value_counts() or unique()\n",
    "- format - check by unique"
   ]
  },
  {
   "cell_type": "markdown",
   "id": "21dc40ab",
   "metadata": {},
   "source": [
    "<a name = Section51></a>\n",
    "### **5.1 Checking for Missing Data**\n",
    "\n",
    "- In this section, we will identify missing data and check the proportion of it and take appropriate measures."
   ]
  },
  {
   "cell_type": "code",
   "execution_count": null,
   "id": "ec918b1d",
   "metadata": {},
   "outputs": [],
   "source": [
    "data.shape[0]-data['col_name'].shape[0]                 # check if values are missing"
   ]
  },
  {
   "cell_type": "markdown",
   "id": "c67aef75",
   "metadata": {},
   "source": [
    "<a name = Section52></a>\n",
    "### **5.2 Checking for Redundant Data**\n",
    "\n",
    "- In this section, we will identify redundant data and check the proportion of it and take appropriate measures."
   ]
  },
  {
   "cell_type": "code",
   "execution_count": null,
   "id": "59eb4c1c",
   "metadata": {},
   "outputs": [],
   "source": []
  },
  {
   "cell_type": "markdown",
   "id": "ee95e003",
   "metadata": {},
   "source": [
    "<a name = Section53></a>\n",
    "### **5.3 Checking for Inconsistent Data**\n",
    "\n",
    "- In this section, we will **identify inconsistency** in data.\n"
   ]
  },
  {
   "cell_type": "code",
   "execution_count": null,
   "id": "7ed2fe4d",
   "metadata": {},
   "outputs": [],
   "source": []
  },
  {
   "cell_type": "markdown",
   "id": "03a802ac",
   "metadata": {},
   "source": [
    "<a name = Section54></a>\n",
    "### **5.4 Checking for Outliers**\n",
    "\n",
    "- Check for outliers in our data"
   ]
  },
  {
   "cell_type": "code",
   "execution_count": null,
   "id": "e3b4a953",
   "metadata": {},
   "outputs": [],
   "source": []
  },
  {
   "cell_type": "markdown",
   "id": "d6591b90",
   "metadata": {},
   "source": [
    "---\n",
    "<a name = Section6></a>\n",
    "# **6. Data Pre-Processing**\n",
    "[**To ToC**](#TOC) \n",
    "\n",
    "---\n",
    "- [List of Dataframe functions](https://www.w3schools.com/python/pandas/pandas_ref_dataframe.asp)\n",
    "- outlier - drop - dependent of the objective - contextual\n",
    "- duplicates - .drop_duplicates() - contextual\n",
    "- misssing values - fillna(mean/median/mode) or delete the row/column.\n",
    "- inconstancy in dtypes - .astype()\n",
    "- typos - replace\n",
    "- format - replace"
   ]
  },
  {
   "cell_type": "markdown",
   "id": "5c31651c",
   "metadata": {},
   "source": [
    "<a name = Section61></a>\n",
    "### **6.1 Handling of Missing Data**\n",
    "\n",
    "- In this section, we will take appropriate measures for missing data."
   ]
  },
  {
   "cell_type": "markdown",
   "id": "b9c21c0d",
   "metadata": {},
   "source": [
    "**Observations:**\n",
    "\n",
    "- We can observe that following features are found to have missing values along with the proportions:\n",
    "\n",
    "|Feature|Object Type|Missing Proportion|Solution|\n",
    "|:--:|:--:|:--:|:--|\n",
    "|state|Object|40%|Replace with mode.|\n",
    "|self_employed|Object|1.43%|Replace with mode.|\n",
    "|work_interfere|Object|20.97%|Replace with mode.|\n",
    "|comments|Object|86.97%|Drop the feature.|"
   ]
  },
  {
   "cell_type": "code",
   "execution_count": null,
   "id": "f9ddd6c7",
   "metadata": {},
   "outputs": [],
   "source": [
    "# value = data['col_name'].mode()[0]                                  # to replace with mean median or mode\n",
    "data['col_name'].fillna(value, axis=1, inplace=True)                # axis=0 for rows, can use custom value as well"
   ]
  },
  {
   "cell_type": "code",
   "execution_count": null,
   "id": "b9caeb40",
   "metadata": {},
   "outputs": [],
   "source": [
    "# Dropping rows containing missing values\n",
    "data.dropna(inplace=True)\n",
    "\n",
    "# Checking for missing values again\n",
    "data.isna().sum()"
   ]
  },
  {
   "cell_type": "markdown",
   "id": "d5f57408",
   "metadata": {},
   "source": [
    "<a name = Section62></a>\n",
    "### **6.2 Handling of Redundant Data**\n",
    "\n",
    "- In this section, we will take appropriate measures for redundant data."
   ]
  },
  {
   "cell_type": "code",
   "execution_count": null,
   "id": "130cb28e",
   "metadata": {},
   "outputs": [],
   "source": [
    "# print('Contains Duplicate Rows?', data.duplicated().any())\n",
    "print('Contains how many Duplicate Rows?', data.duplicated().sum())\n",
    "\n",
    "# We will start by first removing the duplicate rows\n",
    "data.drop_duplicates(inplace=True)"
   ]
  },
  {
   "cell_type": "markdown",
   "id": "40921af3",
   "metadata": {},
   "source": [
    "<a name = Section63></a>\n",
    "### **6.3 Handling of Inconsistent Data**\n",
    "\n",
    "- In this section, we will **take appropriate measures** for inconsistent data.\n",
    "\n",
    "- Previously, we observed that **Timestamp** feature was **incorrectly indentified** as Object, so, we will rectify it.\n",
    "\n",
    "- [Drop](https://www.w3schools.com/python/pandas/ref_df_drop.asp) not neeeded cols\n",
    "- To [typecast](https://www.w3schools.com/python/pandas/ref_df_astype.asp) datatype"
   ]
  },
  {
   "cell_type": "code",
   "execution_count": null,
   "id": "57b3ab1a",
   "metadata": {},
   "outputs": [],
   "source": [
    "data['Date']= pd.to_datetime(data['Date'])                       # typecast the col to datetime"
   ]
  },
  {
   "cell_type": "code",
   "execution_count": null,
   "id": "b320e2ec",
   "metadata": {},
   "outputs": [],
   "source": []
  },
  {
   "cell_type": "markdown",
   "id": "9162890c",
   "metadata": {},
   "source": [
    "**Observation:**\n",
    "\n",
    "- Now, we **handled inconsistency** of data **manually** for **one feature**, but it would be **impossible** when you have **hundreds of features**.\n",
    "\n",
    "- In that case, we can **use interactive plots** like plotly to know all the possible values in each feature.\n",
    "\n",
    "- Next, we will **identify** all the categorical features and render a bar plot to identify the **present values**.\n",
    "\n",
    "- If we find any inconsistency in the feature, then we will take appropriate measures.\n",
    "\n",
    "**Note:**\n",
    "\n",
    "- The **approach followed down** for basic data analysis is **not mandatory**.\n",
    "\n",
    "- You can **also go feature by feature** and analyze the data to understand the underlying face of data.\n",
    "\n",
    "- To **make our life easier**, we will be **utilizing a small hack**.\n"
   ]
  },
  {
   "cell_type": "code",
   "execution_count": null,
   "id": "0688fec5",
   "metadata": {},
   "outputs": [],
   "source": [
    "# Initiating a plotly figure\n",
    "fig = go.Figure()\n",
    "\n",
    "# Adding first graph of Gender\n",
    "fig.add_bar(x=data[cat_features[0]], y=data[cat_features[0]].index)\n",
    "\n",
    "# Adding a button to select different features\n",
    "button = [dict(method = 'restyle',\n",
    "               args = [{'x': [data[cat_features[k]], 'undefined'],\n",
    "                        'y': [data[cat_features[k]].index, 'undefined'],\n",
    "                        'visible':[True, False]}], \n",
    "               label = cat_features[k])   for k in range(0, len(cat_features))]  \n",
    "\n",
    "# Updating the layout of the graph\n",
    "fig.update_layout(title_text='Frequency Distribution of Feature Values',\n",
    "                  title_x=0.4,\n",
    "                  width=1000,\n",
    "                  height=450,\n",
    "                  updatemenus=[dict(active=0,\n",
    "                                    buttons=button,\n",
    "                                    x=1.15,\n",
    "                                    y=1,\n",
    "                                    xanchor='left',\n",
    "                                    yanchor='top')])\n",
    "\n",
    "# Adding extra annotaions alongside the button\n",
    "fig.add_annotation(x=1.03,\n",
    "                   y=0.97,\n",
    "                   xref='paper',\n",
    "                   yref='paper',\n",
    "                   showarrow=False,\n",
    "                   xanchor='left',\n",
    "                   yanchor = 'top',\n",
    "                   text='Feature')\n",
    "\n",
    "# Display the graph\n",
    "fig.show()"
   ]
  },
  {
   "cell_type": "markdown",
   "id": "eb623e8f",
   "metadata": {},
   "source": [
    "**Observations:**\n",
    "\n",
    "- By interacting with the above figure we can safely conclude that rest all **other features** are **having correct values**."
   ]
  },
  {
   "cell_type": "markdown",
   "id": "86d11f15",
   "metadata": {},
   "source": [
    "<a name = Section64></a>\n",
    "### **6.4 Handling of Outliers**\n",
    "\n",
    "- Next, if you remember our **age** feature was showing us some **absurd numbers** like 329, 999999999999, -1729.\n",
    "\n",
    "- These are **outliers** and we will **perform capping** over these values such as:\n",
    "  - All value above 75 will be capped to 75 (on **average 65** is the **retirement** but taking extra buffer)."
   ]
  },
  {
   "cell_type": "code",
   "execution_count": null,
   "id": "f26afb60",
   "metadata": {},
   "outputs": [],
   "source": [
    "# filtering the outliers\n",
    "data['Age'][data['Age'] > 75] = 75\n",
    "data['Age'][data['Age'] < 14] = 14"
   ]
  },
  {
   "cell_type": "markdown",
   "id": "0c1c74b5",
   "metadata": {},
   "source": [
    "**Observation:**\n",
    "\n",
    "- Now that we have successfully cleansed our data we are good to go with exploring our data and finding insights."
   ]
  },
  {
   "cell_type": "markdown",
   "id": "de3fe12b",
   "metadata": {},
   "source": [
    "---\n",
    "<a name = Section7></a>\n",
    "# **7. Data Post-Profiling**\n",
    "[**To ToC**](#TOC)\n",
    "\n",
    "---"
   ]
  },
  {
   "cell_type": "markdown",
   "id": "f5ff2952",
   "metadata": {},
   "source": [
    "<a name = Section71></a>\n",
    "### **7.1 Checking for Missing Data**\n"
   ]
  },
  {
   "cell_type": "code",
   "execution_count": null,
   "id": "7d7aea4c",
   "metadata": {},
   "outputs": [],
   "source": []
  },
  {
   "cell_type": "markdown",
   "id": "443538de",
   "metadata": {},
   "source": [
    "<a name = Section72></a>\n",
    "### **7.2 Checking for Redundant Data**\n"
   ]
  },
  {
   "cell_type": "code",
   "execution_count": null,
   "id": "3258a40b",
   "metadata": {},
   "outputs": [],
   "source": []
  },
  {
   "cell_type": "markdown",
   "id": "8693d99c",
   "metadata": {},
   "source": [
    "<a name = Section73></a>\n",
    "### **7.3 Checking for Inconsistent Data**"
   ]
  },
  {
   "cell_type": "code",
   "execution_count": null,
   "id": "03b046fa",
   "metadata": {},
   "outputs": [],
   "source": []
  },
  {
   "cell_type": "markdown",
   "id": "838f10ff",
   "metadata": {},
   "source": [
    "<a name = Section74></a>\n",
    "### **7.4 Checking for Outliers**"
   ]
  },
  {
   "cell_type": "code",
   "execution_count": null,
   "id": "e92f0477",
   "metadata": {},
   "outputs": [],
   "source": []
  },
  {
   "cell_type": "markdown",
   "id": "a2bd938f",
   "metadata": {},
   "source": [
    "---\n",
    "<a name = Section8></a>\n",
    "# **8. Exploratory Data Analysis** \n",
    "[**To ToC**](#TOC)\n",
    "\n",
    "#### Asking 15+-5 - relevant, reasonable, non vague, UNI BI MULTI<br>\n",
    "\n",
    "---\n",
    "\n"
   ]
  },
  {
   "cell_type": "markdown",
   "id": "cabf62c6",
   "metadata": {},
   "source": [
    "<a name = Section62></a>\n",
    "**<h4>Question:** What is the density distribution of Age feature?</h4>"
   ]
  },
  {
   "cell_type": "code",
   "execution_count": null,
   "id": "6e990dbc",
   "metadata": {},
   "outputs": [],
   "source": []
  },
  {
   "cell_type": "markdown",
   "id": "778b951e",
   "metadata": {},
   "source": [
    "**Observation:**\n",
    "\n",
    "- \n",
    "-"
   ]
  },
  {
   "cell_type": "markdown",
   "id": "59dc7dfc",
   "metadata": {},
   "source": [
    "<a name = Section62></a>\n",
    "**<h4>Question:** What is the density distribution of Age feature?</h4>"
   ]
  },
  {
   "cell_type": "code",
   "execution_count": null,
   "id": "26413fdb",
   "metadata": {},
   "outputs": [],
   "source": []
  },
  {
   "cell_type": "markdown",
   "id": "7c191137",
   "metadata": {},
   "source": [
    "**Observation:**\n",
    "\n",
    "- \n",
    "-"
   ]
  },
  {
   "cell_type": "markdown",
   "id": "522df287",
   "metadata": {},
   "source": [
    "<a name = Section62></a>\n",
    "**<h4>Question:** What is the density distribution of Age feature?</h4>"
   ]
  },
  {
   "cell_type": "code",
   "execution_count": null,
   "id": "da6c46e9",
   "metadata": {},
   "outputs": [],
   "source": []
  },
  {
   "cell_type": "markdown",
   "id": "f0338f16",
   "metadata": {},
   "source": [
    "**Observation:**\n",
    "\n",
    "- \n",
    "-"
   ]
  },
  {
   "cell_type": "markdown",
   "id": "5af314b8",
   "metadata": {},
   "source": [
    "---\n",
    "<a name = Section9></a>\n",
    "# **9. Summarization**\n",
    "[To ToC](#TOC)\n",
    "\n",
    "---\n",
    "\n",
    "- **<h4>Conclusion</h4>**\n",
    "\n",
    "  - The mental health survey has **helped** us to **understand** the **mental condition of employees** working in tech firms across countries.\n",
    "\n",
    "  - A total of **1259 entries were recorded** during the survey out of which **1007 were recorded** from the **top 3 countries**.\n",
    "\n",
    "  - The **United States leads the chart** in terms of participation in the survey **followed by** the **United Kingdom** and **Canada**.\n",
    "\n",
    "  - From a **state point of view**, **California leads the chart** when run down the analysis.\n",
    "\n",
    "  - **48.1%** of **males**, **70%** of **females**, and **88%** of **trans** were found to have **sought treatment** concerning the overall survey.\n",
    "\n",
    "  - The following set of **parameters** are found to be **affecting mental health** the most and thus requires treatment:\n",
    "    - Age\n",
    "    - Family history,\n",
    "    - Work Interference,\n",
    "    - Number of employees working in a company,\n",
    "\n",
    "\n",
    "-  **<h4>Actionable Insights</h4>**\n",
    "\n",
    "  - There should be an **awareness program** about mental health and its effects.\n",
    "\n",
    "  - Relationship **Managers** **should be supportive** with the right guidance towards their employees.\n",
    "\n",
    "  - Managers should be **unbiased** concerning the work and the employees.\n",
    "\n",
    "  - There should be **appropriate measures** and **support** for the employees suffering from mental health.\n",
    "\n",
    "  - It is **good to give** an **appreciation** at work **regularly**."
   ]
  }
 ],
 "metadata": {
  "kernelspec": {
   "display_name": "Python 3 (ipykernel)",
   "language": "python",
   "name": "python3"
  },
  "language_info": {
   "codemirror_mode": {
    "name": "ipython",
    "version": 3
   },
   "file_extension": ".py",
   "mimetype": "text/x-python",
   "name": "python",
   "nbconvert_exporter": "python",
   "pygments_lexer": "ipython3",
   "version": "3.9.12"
  }
 },
 "nbformat": 4,
 "nbformat_minor": 5
}
